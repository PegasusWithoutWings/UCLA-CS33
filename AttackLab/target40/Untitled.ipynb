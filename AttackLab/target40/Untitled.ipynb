{
 "cells": [
  {
   "cell_type": "markdown",
   "metadata": {},
   "source": [
    "# CS33: Attack Lab"
   ]
  },
  {
   "cell_type": "markdown",
   "metadata": {},
   "source": [
    "## Phase 2"
   ]
  },
  {
   "cell_type": "markdown",
   "metadata": {},
   "source": [
    "### Big Idea"
   ]
  },
  {
   "cell_type": "markdown",
   "metadata": {},
   "source": [
    "The key technique of exploitation in phase 2 is code injection. First, we will write the binary code instructions into the runtime stack. Then, by overflowing the runtime stack, we overwrite the the return address of the current stack and change it into the starting address of the injected code. This way, when the current procedure call is finished, the program will restart at the overwritten return address, which is the injected code.\n",
    "\n",
    "In this phase, what we want to achieve with the injection code is to call another procedure named `touch2` with cache as the argument. So, in the injected code, we need to first move the desired value into `%rdi%`, the that holds the first argument for procedure call, and then call the procedure `touch2`. Because we are not allowed to use `jmp` or `call` in our injected code, we need to take a similar strategy as the one that allowed us to execute our injected code.\n",
    "\n",
    "First, we will place the address of `touch2` in the exploit string. Then, in the injected code, we will manipulate the stack to have it pointing to the injected address of `touch2`. This way, when we call `ret` in the injected code, the stack will pop the address of `touch2` and have the program restart there. as desired."
   ]
  },
  {
   "cell_type": "markdown",
   "metadata": {},
   "source": [
    "### Detailed Look"
   ]
  },
  {
   "cell_type": "markdown",
   "metadata": {},
   "source": [
    "Similar to phase 1, we will have a 48-byte long exploit string to overflow the stack and rewrite the return address with the last 8 bytes. However, this time, we need to do more work in the first 40 bytes than just padding them.\n",
    "\n",
    "We first need to write down the byte representation of the exploit code:\n",
    "```asm\n",
    "\n",
    "```\n",
    "\n",
    "By examining the GDB, we found that the address of the buffer is `0x556647a8`. We decided to place the address of `touch2` right after the return address of the current stack frame. Because the size of the stack frame is `0x28`, we need to put the address of `touch2` at `0x556647a8 + (0x28 - 0x8)`, which is `0x556647c8`."
   ]
  },
  {
   "cell_type": "code",
   "execution_count": 2,
   "metadata": {},
   "outputs": [
    {
     "name": "stdout",
     "output_type": "stream",
     "text": [
      "import sys\n",
      "\n",
      "word = sys.argv[1]\n",
      "result = '';\n",
      "for i in range(0, len(word), 2):\n",
      "  result = word[i : i + 2] + ' ' + result\n",
      "print(result.strip())"
     ]
    }
   ],
   "source": [
    "cat toLittleEndian.py"
   ]
  },
  {
   "cell_type": "code",
   "execution_count": null,
   "metadata": {},
   "outputs": [],
   "source": []
  }
 ],
 "metadata": {
  "kernelspec": {
   "display_name": "Bash",
   "language": "bash",
   "name": "bash"
  },
  "language_info": {
   "codemirror_mode": "shell",
   "file_extension": ".sh",
   "mimetype": "text/x-sh",
   "name": "bash"
  }
 },
 "nbformat": 4,
 "nbformat_minor": 2
}
